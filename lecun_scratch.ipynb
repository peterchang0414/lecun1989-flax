{
  "nbformat": 4,
  "nbformat_minor": 0,
  "metadata": {
    "colab": {
      "name": "lecun_scratch.ipynb",
      "provenance": [],
      "collapsed_sections": [],
      "include_colab_link": true
    },
    "kernelspec": {
      "name": "python3",
      "display_name": "Python 3"
    },
    "language_info": {
      "name": "python"
    }
  },
  "cells": [
    {
      "cell_type": "markdown",
      "metadata": {
        "id": "view-in-github",
        "colab_type": "text"
      },
      "source": [
        "<a href=\"https://colab.research.google.com/github/peterchang0414/lecun1989-flax/blob/main/lecun_scratch.ipynb\" target=\"_parent\"><img src=\"https://colab.research.google.com/assets/colab-badge.svg\" alt=\"Open In Colab\"/></a>"
      ]
    },
    {
      "cell_type": "code",
      "execution_count": null,
      "metadata": {
        "colab": {
          "base_uri": "https://localhost:8080/"
        },
        "id": "oe2o-uZZd4yT",
        "outputId": "c3f9cc03-b152-4da6-a59d-9ee8451bedb9"
      },
      "outputs": [
        {
          "output_type": "stream",
          "name": "stdout",
          "text": [
            "\u001b[?25l\r\u001b[K     |█▉                              | 10 kB 25.7 MB/s eta 0:00:01\r\u001b[K     |███▋                            | 20 kB 29.1 MB/s eta 0:00:01\r\u001b[K     |█████▍                          | 30 kB 34.4 MB/s eta 0:00:01\r\u001b[K     |███████▏                        | 40 kB 16.8 MB/s eta 0:00:01\r\u001b[K     |█████████                       | 51 kB 14.6 MB/s eta 0:00:01\r\u001b[K     |██████████▊                     | 61 kB 16.8 MB/s eta 0:00:01\r\u001b[K     |████████████▌                   | 71 kB 13.2 MB/s eta 0:00:01\r\u001b[K     |██████████████▎                 | 81 kB 14.2 MB/s eta 0:00:01\r\u001b[K     |████████████████                | 92 kB 15.7 MB/s eta 0:00:01\r\u001b[K     |█████████████████▉              | 102 kB 14.8 MB/s eta 0:00:01\r\u001b[K     |███████████████████▋            | 112 kB 14.8 MB/s eta 0:00:01\r\u001b[K     |█████████████████████▍          | 122 kB 14.8 MB/s eta 0:00:01\r\u001b[K     |███████████████████████▏        | 133 kB 14.8 MB/s eta 0:00:01\r\u001b[K     |█████████████████████████       | 143 kB 14.8 MB/s eta 0:00:01\r\u001b[K     |██████████████████████████▊     | 153 kB 14.8 MB/s eta 0:00:01\r\u001b[K     |████████████████████████████▌   | 163 kB 14.8 MB/s eta 0:00:01\r\u001b[K     |██████████████████████████████▎ | 174 kB 14.8 MB/s eta 0:00:01\r\u001b[K     |████████████████████████████████| 184 kB 14.8 MB/s \n",
            "\u001b[?25h\u001b[?25l\r\u001b[K     |██▍                             | 10 kB 33.7 MB/s eta 0:00:01\r\u001b[K     |████▉                           | 20 kB 43.4 MB/s eta 0:00:01\r\u001b[K     |███████▏                        | 30 kB 53.1 MB/s eta 0:00:01\r\u001b[K     |█████████▋                      | 40 kB 58.2 MB/s eta 0:00:01\r\u001b[K     |████████████                    | 51 kB 61.0 MB/s eta 0:00:01\r\u001b[K     |██████████████▍                 | 61 kB 65.6 MB/s eta 0:00:01\r\u001b[K     |████████████████▉               | 71 kB 64.0 MB/s eta 0:00:01\r\u001b[K     |███████████████████▎            | 81 kB 65.4 MB/s eta 0:00:01\r\u001b[K     |█████████████████████▋          | 92 kB 68.2 MB/s eta 0:00:01\r\u001b[K     |████████████████████████        | 102 kB 54.0 MB/s eta 0:00:01\r\u001b[K     |██████████████████████████▌     | 112 kB 54.0 MB/s eta 0:00:01\r\u001b[K     |████████████████████████████▉   | 122 kB 54.0 MB/s eta 0:00:01\r\u001b[K     |███████████████████████████████▎| 133 kB 54.0 MB/s eta 0:00:01\r\u001b[K     |████████████████████████████████| 136 kB 54.0 MB/s \n",
            "\u001b[?25h\u001b[?25l\r\u001b[K     |████▋                           | 10 kB 33.6 MB/s eta 0:00:01\r\u001b[K     |█████████▎                      | 20 kB 43.8 MB/s eta 0:00:01\r\u001b[K     |█████████████▉                  | 30 kB 52.6 MB/s eta 0:00:01\r\u001b[K     |██████████████████▌             | 40 kB 58.5 MB/s eta 0:00:01\r\u001b[K     |███████████████████████         | 51 kB 61.7 MB/s eta 0:00:01\r\u001b[K     |███████████████████████████▊    | 61 kB 65.6 MB/s eta 0:00:01\r\u001b[K     |████████████████████████████████| 70 kB 8.4 MB/s \n",
            "\u001b[?25h"
          ]
        }
      ],
      "source": [
        "!pip install -q flax"
      ]
    },
    {
      "cell_type": "code",
      "source": [
        "import jax\n",
        "import jax.numpy as jnp\n",
        "import numpy as np\n",
        "\n",
        "from flax import linen as nn\n",
        "from torchvision import datasets\n",
        "\n",
        "data = datasets.MNIST('./data', train=True, download=True)\n",
        "\n",
        "# Adapted from https://github.com/karpathy/lecun1989-repro/blob/master/prepro.py\n",
        "def get_datasets():\n",
        "  train_test = {}\n",
        "  for split in {'train', 'test'}:\n",
        "    data = datasets.MNIST('./data', train=split=='train', download=True)\n",
        "    \n",
        "    n = 1 if split == 'train' else 1\n",
        "    key = jax.random.PRNGKey(0)\n",
        "    rp = jax.random.permutation(key, len(data))[:n]\n",
        "\n",
        "    X = jnp.full((n, 16, 16, 1), 0.0, dtype=jnp.float32)\n",
        "    Y = jnp.full((n, 10), -1.0, dtype=jnp.float32)\n",
        "    for i, ix in enumerate(rp):\n",
        "      I, yint = data[int(ix)]\n",
        "      xi = jnp.array(I, dtype=np.float32) / 127.5 - 1.0\n",
        "      xi = jax.image.resize(xi, (16, 16), 'bilinear')\n",
        "      X = X.at[i].set(np.expand_dims(xi, axis=2))\n",
        "      Y = Y.at[i, yint].set(1.0)\n",
        "    train_test[split] = (X, Y)\n",
        "  return train_test"
      ],
      "metadata": {
        "id": "pc7McMNRnt2E"
      },
      "execution_count": 50,
      "outputs": []
    },
    {
      "cell_type": "code",
      "source": [
        "from flax import linen as nn\n",
        "from flax.training import train_state\n",
        "from flax.linen.activation import tanh\n",
        "import optax\n",
        "from typing import Callable\n",
        "\n",
        "class Net(nn.Module):\n",
        "  bias_init: Callable = nn.initializers.zeros\n",
        "\n",
        "  @nn.compact\n",
        "  def __call__(self, x):\n",
        "    # H1 layer\n",
        "    # For weight initialization, Karpathy used numerator of 2.4 \n",
        "    # which is very close to sqrt(6) used by he_uniform\n",
        "    # By default, weight-sharing forces bias-sharing and therefore\n",
        "    # we add the bias separately.\n",
        "    bias1 = self.param('bias1', self.bias_init, (8, 8, 12))\n",
        "    bias2 = self.param('bias2', self.bias_init, (4, 4, 12))\n",
        "    bias3 = self.param('bias3', self.bias_init, (30,))\n",
        "    bias4 = self.param('bias4', nn.initializers.constant(-1.0), (10,))\n",
        "    x = jnp.pad(x, 2, constant_values=-1.0)\n",
        "    x = nn.Conv(features=12, kernel_size=(5,5), strides=2, padding='VALID',\n",
        "                use_bias=False, kernel_init=nn.initializers.he_uniform())(x)\n",
        "    x = tanh(x + bias1)\n",
        "    # slice1 = nn.Conv(features=8, kernel_size=(5,5), strides=2, padding=-1.0,\n",
        "    #                 use_bias=False, kernel_init=nn.initializers.he_uniform())(x[..., 0:8])\n",
        "    # slice1 = nn.Conv(features=8, kernel_size=(5,5), strides=2, padding=-1.0,\n",
        "    #                 use_bias=False, kernel_init=nn.initializers.he_uniform())(x[..., 0:8])\n",
        "    x = jnp.pad(x, 2, constant_values=-1.0)\n",
        "    x = nn.Conv(features=12, kernel_size=(5,5,12), strides=2, padding='VALID',\n",
        "                use_bias=False, kernel_init=nn.initializers.he_uniform())(x)\n",
        "    x = tanh(x + bias2)\n",
        "    x = x.reshape((x.shape[0], -1))\n",
        "    x = nn.Dense(features=30)(x)\n",
        "    x = tanh(x + bias3)\n",
        "    x = nn.Dense(features=10)(x)\n",
        "    x = tanh(x + bias4)\n",
        "\n",
        "    return x\n"
      ],
      "metadata": {
        "id": "hk3obOlvqoDZ"
      },
      "execution_count": 85,
      "outputs": []
    },
    {
      "cell_type": "code",
      "source": [
        "train_test = get_datasets()"
      ],
      "metadata": {
        "id": "m-TvWWooE8Th"
      },
      "execution_count": 71,
      "outputs": []
    },
    {
      "cell_type": "code",
      "source": [
        "train = train_test['train'][0]"
      ],
      "metadata": {
        "id": "_RXV0OQ0E_Ta"
      },
      "execution_count": 72,
      "outputs": []
    },
    {
      "cell_type": "code",
      "source": [
        "train.shape"
      ],
      "metadata": {
        "id": "qi9Ul0yIFE2y",
        "outputId": "b3c92a94-f103-49b9-bd00-dc92283e9e3b",
        "colab": {
          "base_uri": "https://localhost:8080/"
        }
      },
      "execution_count": 73,
      "outputs": [
        {
          "output_type": "execute_result",
          "data": {
            "text/plain": [
              "(1, 16, 16, 1)"
            ]
          },
          "metadata": {},
          "execution_count": 73
        }
      ]
    },
    {
      "cell_type": "code",
      "source": [
        "key = jax.random.PRNGKey(0)\n",
        "cnn = Net()\n",
        "param = cnn.init(key, train)['params']"
      ],
      "metadata": {
        "id": "ei-31RL7D00w"
      },
      "execution_count": 86,
      "outputs": []
    },
    {
      "cell_type": "code",
      "source": [
        "print(jax.tree_map(lambda x: x.shape, param))"
      ],
      "metadata": {
        "id": "xQxW8SnoGm4q",
        "outputId": "de16d1a7-77b8-4f77-d020-783b937bd2e3",
        "colab": {
          "base_uri": "https://localhost:8080/"
        }
      },
      "execution_count": 90,
      "outputs": [
        {
          "output_type": "stream",
          "name": "stdout",
          "text": [
            "FrozenDict({\n",
            "    Conv_0: {\n",
            "        kernel: (5, 5, 5, 12),\n",
            "    },\n",
            "    Conv_1: {\n",
            "        kernel: (5, 5, 12, 16, 12),\n",
            "    },\n",
            "    Dense_0: {\n",
            "        bias: (30,),\n",
            "        kernel: (192, 30),\n",
            "    },\n",
            "    Dense_1: {\n",
            "        bias: (10,),\n",
            "        kernel: (30, 10),\n",
            "    },\n",
            "    bias1: (8, 8, 12),\n",
            "    bias2: (4, 4, 12),\n",
            "    bias3: (30,),\n",
            "    bias4: (10,),\n",
            "})\n"
          ]
        }
      ]
    },
    {
      "cell_type": "code",
      "source": [
        ""
      ],
      "metadata": {
        "id": "NnEGr2MhPQf0"
      },
      "execution_count": null,
      "outputs": []
    }
  ]
}