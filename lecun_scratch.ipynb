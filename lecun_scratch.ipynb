{
  "nbformat": 4,
  "nbformat_minor": 0,
  "metadata": {
    "colab": {
      "name": "lecun_scratch.ipynb",
      "provenance": [],
      "collapsed_sections": []
    },
    "kernelspec": {
      "name": "python3",
      "display_name": "Python 3"
    },
    "language_info": {
      "name": "python"
    }
  },
  "cells": [
    {
      "cell_type": "code",
      "execution_count": null,
      "metadata": {
        "colab": {
          "base_uri": "https://localhost:8080/"
        },
        "id": "oe2o-uZZd4yT",
        "outputId": "3b028b01-9b00-4cc8-8206-ad1b2215d2f4"
      },
      "outputs": [
        {
          "output_type": "stream",
          "name": "stdout",
          "text": [
            "\u001b[?25l\r\u001b[K     |█▉                              | 10 kB 15.2 MB/s eta 0:00:01\r\u001b[K     |███▋                            | 20 kB 18.6 MB/s eta 0:00:01\r\u001b[K     |█████▍                          | 30 kB 21.6 MB/s eta 0:00:01\r\u001b[K     |███████▏                        | 40 kB 24.6 MB/s eta 0:00:01\r\u001b[K     |█████████                       | 51 kB 18.9 MB/s eta 0:00:01\r\u001b[K     |██████████▊                     | 61 kB 21.0 MB/s eta 0:00:01\r\u001b[K     |████████████▌                   | 71 kB 20.7 MB/s eta 0:00:01\r\u001b[K     |██████████████▎                 | 81 kB 19.0 MB/s eta 0:00:01\r\u001b[K     |████████████████                | 92 kB 20.4 MB/s eta 0:00:01\r\u001b[K     |█████████████████▉              | 102 kB 20.5 MB/s eta 0:00:01\r\u001b[K     |███████████████████▋            | 112 kB 20.5 MB/s eta 0:00:01\r\u001b[K     |█████████████████████▍          | 122 kB 20.5 MB/s eta 0:00:01\r\u001b[K     |███████████████████████▏        | 133 kB 20.5 MB/s eta 0:00:01\r\u001b[K     |█████████████████████████       | 143 kB 20.5 MB/s eta 0:00:01\r\u001b[K     |██████████████████████████▊     | 153 kB 20.5 MB/s eta 0:00:01\r\u001b[K     |████████████████████████████▌   | 163 kB 20.5 MB/s eta 0:00:01\r\u001b[K     |██████████████████████████████▎ | 174 kB 20.5 MB/s eta 0:00:01\r\u001b[K     |████████████████████████████████| 184 kB 20.5 MB/s \n",
            "\u001b[K     |████████████████████████████████| 136 kB 41.4 MB/s \n",
            "\u001b[K     |████████████████████████████████| 70 kB 5.3 MB/s \n",
            "\u001b[?25h"
          ]
        }
      ],
      "source": [
        "!pip install -q flax"
      ]
    },
    {
      "cell_type": "code",
      "source": [
        "import jax\n",
        "import jax.numpy as jnp\n",
        "import numpy as np\n",
        "\n",
        "from flax import linen as nn\n",
        "from torchvision import datasets\n",
        "\n",
        "data = datasets.MNIST('./data', train=True, download=True)\n",
        "\n",
        "# Adapted from https://github.com/karpathy/lecun1989-repro/blob/master/prepro.py\n",
        "def get_datasets():\n",
        "  train_test = {}\n",
        "  for split in {'train', 'test'}:\n",
        "    data = datasets.MNIST('./data', train=split=='train', download=True)\n",
        "    \n",
        "    n = 2 if split == 'train' else 1\n",
        "    key = jax.random.PRNGKey(0)\n",
        "    rp = jax.random.permutation(key, len(data))[:n]\n",
        "\n",
        "    X = jnp.full((n, 1, 16, 16), 0.0, dtype=jnp.float32)\n",
        "    Y = jnp.full((n, 10), -1.0, dtype=jnp.float32)\n",
        "    for i, ix in enumerate(rp):\n",
        "      I, yint = data[int(ix)]\n",
        "      xi = jnp.array(I, dtype=np.float32) / 127.5 - 1.0\n",
        "      xi = jax.image.resize(xi, (16, 16), 'bilinear')\n",
        "      X = X.at[i].set(xi)\n",
        "      Y = Y.at[i, yint].set(1.0)\n",
        "    train_test[split] = (X, Y)\n",
        "  return train_test"
      ],
      "metadata": {
        "id": "pc7McMNRnt2E"
      },
      "execution_count": 88,
      "outputs": []
    },
    {
      "cell_type": "code",
      "source": [
        ""
      ],
      "metadata": {
        "id": "0Ir7fSnwoS1m"
      },
      "execution_count": null,
      "outputs": []
    }
  ]
}