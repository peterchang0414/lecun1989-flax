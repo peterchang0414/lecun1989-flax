{
  "nbformat": 4,
  "nbformat_minor": 0,
  "metadata": {
    "colab": {
      "name": "lecun_scratch.ipynb",
      "provenance": [],
      "collapsed_sections": [],
      "include_colab_link": true
    },
    "kernelspec": {
      "name": "python3",
      "display_name": "Python 3"
    },
    "language_info": {
      "name": "python"
    }
  },
  "cells": [
    {
      "cell_type": "markdown",
      "metadata": {
        "id": "view-in-github",
        "colab_type": "text"
      },
      "source": [
        "<a href=\"https://colab.research.google.com/github/peterchang0414/lecun1989-flax/blob/main/lecun_scratch.ipynb\" target=\"_parent\"><img src=\"https://colab.research.google.com/assets/colab-badge.svg\" alt=\"Open In Colab\"/></a>"
      ]
    },
    {
      "cell_type": "code",
      "execution_count": 1,
      "metadata": {
        "colab": {
          "base_uri": "https://localhost:8080/"
        },
        "id": "oe2o-uZZd4yT",
        "outputId": "c3f9cc03-b152-4da6-a59d-9ee8451bedb9"
      },
      "outputs": [
        {
          "output_type": "stream",
          "name": "stdout",
          "text": [
            "\u001b[?25l\r\u001b[K     |█▉                              | 10 kB 25.7 MB/s eta 0:00:01\r\u001b[K     |███▋                            | 20 kB 29.1 MB/s eta 0:00:01\r\u001b[K     |█████▍                          | 30 kB 34.4 MB/s eta 0:00:01\r\u001b[K     |███████▏                        | 40 kB 16.8 MB/s eta 0:00:01\r\u001b[K     |█████████                       | 51 kB 14.6 MB/s eta 0:00:01\r\u001b[K     |██████████▊                     | 61 kB 16.8 MB/s eta 0:00:01\r\u001b[K     |████████████▌                   | 71 kB 13.2 MB/s eta 0:00:01\r\u001b[K     |██████████████▎                 | 81 kB 14.2 MB/s eta 0:00:01\r\u001b[K     |████████████████                | 92 kB 15.7 MB/s eta 0:00:01\r\u001b[K     |█████████████████▉              | 102 kB 14.8 MB/s eta 0:00:01\r\u001b[K     |███████████████████▋            | 112 kB 14.8 MB/s eta 0:00:01\r\u001b[K     |█████████████████████▍          | 122 kB 14.8 MB/s eta 0:00:01\r\u001b[K     |███████████████████████▏        | 133 kB 14.8 MB/s eta 0:00:01\r\u001b[K     |█████████████████████████       | 143 kB 14.8 MB/s eta 0:00:01\r\u001b[K     |██████████████████████████▊     | 153 kB 14.8 MB/s eta 0:00:01\r\u001b[K     |████████████████████████████▌   | 163 kB 14.8 MB/s eta 0:00:01\r\u001b[K     |██████████████████████████████▎ | 174 kB 14.8 MB/s eta 0:00:01\r\u001b[K     |████████████████████████████████| 184 kB 14.8 MB/s \n",
            "\u001b[?25h\u001b[?25l\r\u001b[K     |██▍                             | 10 kB 33.7 MB/s eta 0:00:01\r\u001b[K     |████▉                           | 20 kB 43.4 MB/s eta 0:00:01\r\u001b[K     |███████▏                        | 30 kB 53.1 MB/s eta 0:00:01\r\u001b[K     |█████████▋                      | 40 kB 58.2 MB/s eta 0:00:01\r\u001b[K     |████████████                    | 51 kB 61.0 MB/s eta 0:00:01\r\u001b[K     |██████████████▍                 | 61 kB 65.6 MB/s eta 0:00:01\r\u001b[K     |████████████████▉               | 71 kB 64.0 MB/s eta 0:00:01\r\u001b[K     |███████████████████▎            | 81 kB 65.4 MB/s eta 0:00:01\r\u001b[K     |█████████████████████▋          | 92 kB 68.2 MB/s eta 0:00:01\r\u001b[K     |████████████████████████        | 102 kB 54.0 MB/s eta 0:00:01\r\u001b[K     |██████████████████████████▌     | 112 kB 54.0 MB/s eta 0:00:01\r\u001b[K     |████████████████████████████▉   | 122 kB 54.0 MB/s eta 0:00:01\r\u001b[K     |███████████████████████████████▎| 133 kB 54.0 MB/s eta 0:00:01\r\u001b[K     |████████████████████████████████| 136 kB 54.0 MB/s \n",
            "\u001b[?25h\u001b[?25l\r\u001b[K     |████▋                           | 10 kB 33.6 MB/s eta 0:00:01\r\u001b[K     |█████████▎                      | 20 kB 43.8 MB/s eta 0:00:01\r\u001b[K     |█████████████▉                  | 30 kB 52.6 MB/s eta 0:00:01\r\u001b[K     |██████████████████▌             | 40 kB 58.5 MB/s eta 0:00:01\r\u001b[K     |███████████████████████         | 51 kB 61.7 MB/s eta 0:00:01\r\u001b[K     |███████████████████████████▊    | 61 kB 65.6 MB/s eta 0:00:01\r\u001b[K     |████████████████████████████████| 70 kB 8.4 MB/s \n",
            "\u001b[?25h"
          ]
        }
      ],
      "source": [
        "!pip install -q flax"
      ]
    },
    {
      "cell_type": "code",
      "source": [
        "import jax\n",
        "import jax.numpy as jnp\n",
        "import numpy as np\n",
        "\n",
        "from flax import linen as nn\n",
        "from torchvision import datasets\n",
        "\n",
        "data = datasets.MNIST('./data', train=True, download=True)\n",
        "\n",
        "# Adapted from https://github.com/karpathy/lecun1989-repro/blob/master/prepro.py\n",
        "def get_datasets():\n",
        "  train_test = {}\n",
        "  for split in {'train', 'test'}:\n",
        "    data = datasets.MNIST('./data', train=split=='train', download=True)\n",
        "    \n",
        "    n = 2 if split == 'train' else 1\n",
        "    key = jax.random.PRNGKey(0)\n",
        "    rp = jax.random.permutation(key, len(data))[:n]\n",
        "\n",
        "    X = jnp.full((n, 1, 16, 16), 0.0, dtype=jnp.float32)\n",
        "    Y = jnp.full((n, 10), -1.0, dtype=jnp.float32)\n",
        "    for i, ix in enumerate(rp):\n",
        "      I, yint = data[int(ix)]\n",
        "      xi = jnp.array(I, dtype=np.float32) / 127.5 - 1.0\n",
        "      xi = jax.image.resize(xi, (16, 16), 'bilinear')\n",
        "      X = X.at[i].set(xi)\n",
        "      Y = Y.at[i, yint].set(1.0)\n",
        "    train_test[split] = (X, Y)\n",
        "  return train_test"
      ],
      "metadata": {
        "id": "pc7McMNRnt2E"
      },
      "execution_count": 3,
      "outputs": []
    },
    {
      "cell_type": "code",
      "source": [
        "from flax import linen as nn\n",
        "from flax.training import train_state\n",
        "from flax.linen.activation import tanh\n",
        "import optax\n",
        "from typing import Callable\n",
        "\n",
        "class Net(nn.Module):\n",
        "  bias_init: Callable = nn.initializers.zeros\n",
        "\n",
        "  @nn.compact\n",
        "  def __call__(self, x):\n",
        "    # H1 layer\n",
        "    # For weight initialization, Karpathy used numerator of 2.4 \n",
        "    # which is very close to sqrt(6) used by he_uniform\n",
        "    # By default, weight-sharing forces bias-sharing and therefore\n",
        "    # we add the bias separately.\n",
        "    bias1 = self.param('bias1', self.bias_init, (8, 8, 12))\n",
        "    bias2 = self.param('bias2', self.bias_init, (4, 4, 12))\n",
        "    bias3 = self.param('bias3', self.bias_init, (30,))\n",
        "    x = nn.Conv(features=12, kernel_size=(5,5), strides=2, padding=-1.0,\n",
        "                use_bias=False, kernel_init=nn.initializers.he_uniform())(x)\n",
        "    x = tanh(x + bias1)\n",
        "    slice1 = nn.Conv(features=8, kernel_size=(5,5), strides=2, padding=-1.0,\n",
        "                     use_bias=False, kernel_init=nn.initializers.he_uniform())(x[..., 0:8])\n",
        "    slice1 = nn.Conv(features=8, kernel_size=(5,5), strides=2, padding=-1.0,\n",
        "                     use_bias=False, kernel_init=nn.initializers.he_uniform())(x[..., 0:8])\n"
      ],
      "metadata": {
        "id": "hk3obOlvqoDZ",
        "outputId": "3f8fb59d-5f65-430d-c739-8475543f95dc",
        "colab": {
          "base_uri": "https://localhost:8080/",
          "height": 137
        }
      },
      "execution_count": 4,
      "outputs": [
        {
          "output_type": "error",
          "ename": "SyntaxError",
          "evalue": "ignored",
          "traceback": [
            "\u001b[0;36m  File \u001b[0;32m\"<ipython-input-4-42d2cb867724>\"\u001b[0;36m, line \u001b[0;32m5\u001b[0m\n\u001b[0;31m    class Net(nn.Module):\u001b[0m\n\u001b[0m                         ^\u001b[0m\n\u001b[0;31mSyntaxError\u001b[0m\u001b[0;31m:\u001b[0m unexpected EOF while parsing\n"
          ]
        }
      ]
    }
  ]
}