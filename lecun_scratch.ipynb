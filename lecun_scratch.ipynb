{
  "nbformat": 4,
  "nbformat_minor": 0,
  "metadata": {
    "colab": {
      "name": "lecun_scratch.ipynb",
      "provenance": [],
      "collapsed_sections": [],
      "include_colab_link": true
    },
    "kernelspec": {
      "name": "python3",
      "display_name": "Python 3"
    },
    "language_info": {
      "name": "python"
    }
  },
  "cells": [
    {
      "cell_type": "markdown",
      "metadata": {
        "id": "view-in-github",
        "colab_type": "text"
      },
      "source": [
        "<a href=\"https://colab.research.google.com/github/peterchang0414/lecun1989-flax/blob/main/lecun_scratch.ipynb\" target=\"_parent\"><img src=\"https://colab.research.google.com/assets/colab-badge.svg\" alt=\"Open In Colab\"/></a>"
      ]
    },
    {
      "cell_type": "code",
      "execution_count": 14,
      "metadata": {
        "id": "oe2o-uZZd4yT"
      },
      "outputs": [],
      "source": [
        "!pip install -q flax"
      ]
    },
    {
      "cell_type": "code",
      "source": [
        "import jax\n",
        "import jax.numpy as jnp\n",
        "import numpy as np\n",
        "\n",
        "from flax import linen as nn\n",
        "from torchvision import datasets\n",
        "\n",
        "data = datasets.MNIST('./data', train=True, download=True)\n",
        "\n",
        "# Adapted from https://github.com/karpathy/lecun1989-repro/blob/master/prepro.py\n",
        "def get_datasets():\n",
        "  train_test = {}\n",
        "  for split in {'train', 'test'}:\n",
        "    data = datasets.MNIST('./data', train=split=='train', download=True)\n",
        "    \n",
        "    n = 1000 if split == 'train' else 500\n",
        "    key = jax.random.PRNGKey(0)\n",
        "    rp = jax.random.permutation(key, len(data))[:n]\n",
        "\n",
        "    X = jnp.full((n, 16, 16, 1), 0.0, dtype=jnp.float32)\n",
        "    Y = jnp.full((n, 10), -1.0, dtype=jnp.float32)\n",
        "    for i, ix in enumerate(rp):\n",
        "      I, yint = data[int(ix)]\n",
        "      xi = jnp.array(I, dtype=np.float32) / 127.5 - 1.0\n",
        "      xi = jax.image.resize(xi, (16, 16), 'bilinear')\n",
        "      X = X.at[i].set(np.expand_dims(xi, axis=2))\n",
        "      Y = Y.at[i, yint].set(1.0)\n",
        "    train_test[split] = (X, Y)\n",
        "  return train_test"
      ],
      "metadata": {
        "id": "pc7McMNRnt2E"
      },
      "execution_count": 47,
      "outputs": []
    },
    {
      "cell_type": "code",
      "source": [
        "from flax import linen as nn\n",
        "from flax.training import train_state\n",
        "from flax.linen.activation import tanh\n",
        "import optax\n",
        "from typing import Callable\n",
        "\n",
        "class Net(nn.Module):\n",
        "  bias_init: Callable = nn.initializers.zeros\n",
        "  kernel_init: Callable = nn.initializers.uniform()\n",
        "\n",
        "  @nn.compact\n",
        "  def __call__(self, x):\n",
        "    # For weight initialization, Karpathy used numerator of 2.4 \n",
        "    # which is very close to sqrt(6) = 2.449... used by he_uniform()\n",
        "    # By default, weight-sharing forces bias-sharing and therefore\n",
        "    # we add the bias separately.\n",
        "    bias1 = self.param('bias1', self.bias_init, (8, 8, 12))\n",
        "    bias2 = self.param('bias2', self.bias_init, (4, 4, 12))\n",
        "    bias3 = self.param('bias3', self.bias_init, (30,))\n",
        "    bias4 = self.param('bias4', nn.initializers.constant(-1.0), (10,))\n",
        "    x = jnp.pad(x, [(0,0),(2,2),(2,2),(0,0)], constant_values=-1.0)\n",
        "    x = nn.Conv(features=12, kernel_size=(5,5), strides=2, padding='VALID',\n",
        "                use_bias=False, kernel_init=self.kernel_init)(x)\n",
        "    x = tanh(x + bias1)\n",
        "    x = jnp.pad(x, [(0,0),(2,2),(2,2),(0,0)], constant_values=-1.0)\n",
        "    x1, x2, x3 = x[..., 0:8], x[..., 4:12], jnp.concatenate((x[..., 0:4], x[..., 8:12]), axis=-1)\n",
        "    slice1 = nn.Conv(features=4, kernel_size=(5,5), strides=2, padding='VALID', \n",
        "                     use_bias=False, kernel_init=self.kernel_init)(x1)\n",
        "    slice2 = nn.Conv(features=4, kernel_size=(5,5), strides=2, padding='VALID',\n",
        "                     use_bias=False, kernel_init=self.kernel_init)(x2)\n",
        "    slice3 = nn.Conv(features=4, kernel_size=(5,5), strides=2, padding='VALID',\n",
        "                     use_bias=False, kernel_init=self.kernel_init)(x3)\n",
        "    # x = jnp.pad(x, [(0,0),(2,2),(2,2),(0,0)], constant_values=-1.0)\n",
        "    # x = nn.Conv(features=12, kernel_size=(5,5), strides=2, padding='VALID',\n",
        "    #             use_bias=False, kernel_init=nn.initializers.he_uniform())(x)\n",
        "    x = jnp.concatenate((slice1, slice2, slice3), axis=-1)\n",
        "    x = tanh(x + bias2)\n",
        "    x = x.reshape((x.shape[0], -1))\n",
        "    x = nn.Dense(features=30, use_bias=False)(x)\n",
        "    x = tanh(x + bias3)\n",
        "    x = nn.Dense(features=10, use_bias=False)(x)\n",
        "    x = tanh(x + bias4)\n",
        "\n",
        "    return x"
      ],
      "metadata": {
        "id": "hk3obOlvqoDZ"
      },
      "execution_count": 48,
      "outputs": []
    },
    {
      "cell_type": "code",
      "source": [
        "@jax.jit\n",
        "def eval_step(params, X, Y):\n",
        "  Yhat = Net().apply({'params': params}, X)\n",
        "  loss = jnp.mean((Yhat - Y)**2)\n",
        "  err = jnp.mean(jnp.argmax(Y, -1) != jnp.argmax(Yhat, -1)).astype(float)\n",
        "  return loss, err"
      ],
      "metadata": {
        "id": "KUCi-jvDXuha"
      },
      "execution_count": 49,
      "outputs": []
    },
    {
      "cell_type": "code",
      "source": [
        "def eval_split(data, split, params):\n",
        "  X, Y = data[split]\n",
        "  loss, err = eval_step(params, X, Y)\n",
        "  print(f\"eval: split {split:5s}. loss {loss:e}. error {err*100:.2f}%. misses: {int(err*Y.shape[0])}\")"
      ],
      "metadata": {
        "id": "D9KDZtpgVUBu"
      },
      "execution_count": 50,
      "outputs": []
    },
    {
      "cell_type": "code",
      "source": [
        "from jax import value_and_grad\n",
        "import optax\n",
        "from flax.training import train_state\n",
        "\n",
        "def create_train_state(key, lr, X):\n",
        "  model = Net()\n",
        "  params = model.init(key, X)['params']\n",
        "  sgd_opt = optax.sgd(lr)\n",
        "  return train_state.TrainState.create(apply_fn=model.apply, params=params, tx=sgd_opt)\n",
        "\n",
        "@jax.jit\n",
        "def train_step(state, X, Y):\n",
        "  def loss_fn(params):\n",
        "    Yhat = Net().apply({'params': params}, X)\n",
        "    loss = jnp.mean((Yhat - Y)**2)\n",
        "    err = jnp.mean(jnp.argmax(Y, -1) != jnp.argmax(Yhat, -1)).astype(float)\n",
        "    return loss, err\n",
        "  (_, Yhats), grads = jax.value_and_grad(loss_fn, has_aux=True)(state.params)\n",
        "  state = state.apply_gradients(grads=grads)\n",
        "  return state\n",
        "\n",
        "def train_one_epoch(state, X, Y):\n",
        "  for step_num in range(X.shape[0]):\n",
        "    x, y = np.expand_dims(X[step_num], 0), np.expand_dims(Y[step_num], 0)\n",
        "    state = train_step(state, x, y)\n",
        "  return state\n",
        "\n",
        "def train(key, data, epochs, lr):\n",
        "  Xtr, Ytr = data['train']\n",
        "  Xte, Yte = data['test']\n",
        "  train_state = create_train_state(key, lr, Xtr)\n",
        "  for epoch in range(epochs):\n",
        "    print(f\"epoch {epoch+1}\")\n",
        "    train_state = train_one_epoch(train_state, Xtr, Ytr)\n",
        "    for split in ['train', 'test']:\n",
        "      eval_split(data, split, train_state.params)\n"
      ],
      "metadata": {
        "id": "nwzevZv3CdvA"
      },
      "execution_count": 51,
      "outputs": []
    },
    {
      "cell_type": "code",
      "source": [
        "key = jax.random.PRNGKey(0)\n",
        "\n",
        "train(key, get_datasets(), 10, 0.03)"
      ],
      "metadata": {
        "colab": {
          "base_uri": "https://localhost:8080/"
        },
        "id": "lZhSr9-YKlo5",
        "outputId": "e0c0d834-efba-4f87-9b0b-e0783a6c4e4b"
      },
      "execution_count": 52,
      "outputs": [
        {
          "output_type": "stream",
          "name": "stdout",
          "text": [
            "epoch 1\n",
            "eval: split train. loss 3.603377e-01. error 90.10%. misses: 901\n",
            "eval: split test . loss 3.603952e-01. error 89.60%. misses: 448\n",
            "epoch 2\n",
            "eval: split train. loss 2.758465e-01. error 46.30%. misses: 463\n",
            "eval: split test . loss 2.725264e-01. error 43.40%. misses: 217\n",
            "epoch 3\n",
            "eval: split train. loss 1.376759e-01. error 15.60%. misses: 156\n",
            "eval: split test . loss 1.359383e-01. error 17.20%. misses: 86\n",
            "epoch 4\n",
            "eval: split train. loss 9.459769e-02. error 11.40%. misses: 114\n",
            "eval: split test . loss 9.940626e-02. error 13.80%. misses: 69\n",
            "epoch 5\n",
            "eval: split train. loss 7.227705e-02. error 8.90%. misses: 89\n",
            "eval: split test . loss 8.325174e-02. error 12.40%. misses: 62\n",
            "epoch 6\n",
            "eval: split train. loss 5.911439e-02. error 7.10%. misses: 71\n",
            "eval: split test . loss 7.545932e-02. error 10.60%. misses: 53\n",
            "epoch 7\n",
            "eval: split train. loss 4.991591e-02. error 6.00%. misses: 60\n",
            "eval: split test . loss 7.037602e-02. error 10.20%. misses: 51\n",
            "epoch 8\n",
            "eval: split train. loss 4.331648e-02. error 5.30%. misses: 53\n",
            "eval: split test . loss 6.682534e-02. error 9.20%. misses: 46\n",
            "epoch 9\n",
            "eval: split train. loss 3.833688e-02. error 4.50%. misses: 45\n",
            "eval: split test . loss 6.448028e-02. error 9.00%. misses: 45\n",
            "epoch 10\n",
            "eval: split train. loss 3.397870e-02. error 3.90%. misses: 39\n",
            "eval: split test . loss 6.244085e-02. error 8.80%. misses: 44\n"
          ]
        }
      ]
    },
    {
      "cell_type": "code",
      "source": [
        "train_test = get_datasets()"
      ],
      "metadata": {
        "id": "m-TvWWooE8Th"
      },
      "execution_count": 42,
      "outputs": []
    },
    {
      "cell_type": "code",
      "source": [
        "train = train_test['train'][0]"
      ],
      "metadata": {
        "id": "_RXV0OQ0E_Ta"
      },
      "execution_count": 43,
      "outputs": []
    },
    {
      "cell_type": "code",
      "source": [
        "train.shape"
      ],
      "metadata": {
        "colab": {
          "base_uri": "https://localhost:8080/"
        },
        "id": "qi9Ul0yIFE2y",
        "outputId": "1f08018a-a3cc-4bb9-99dd-ee5d099ad36c"
      },
      "execution_count": 44,
      "outputs": [
        {
          "output_type": "execute_result",
          "data": {
            "text/plain": [
              "(100, 16, 16, 1)"
            ]
          },
          "metadata": {},
          "execution_count": 44
        }
      ]
    },
    {
      "cell_type": "code",
      "source": [
        "key = jax.random.PRNGKey(0)\n",
        "cnn = Net()\n",
        "param = cnn.init(key, train)['params']"
      ],
      "metadata": {
        "id": "ei-31RL7D00w"
      },
      "execution_count": 45,
      "outputs": []
    },
    {
      "cell_type": "code",
      "source": [
        "print(jax.tree_map(lambda x: x.shape, param))"
      ],
      "metadata": {
        "id": "7NraePjQZLEO",
        "outputId": "19af1625-9ef8-4bbd-ee92-dc0e2b3ba587",
        "colab": {
          "base_uri": "https://localhost:8080/"
        }
      },
      "execution_count": 46,
      "outputs": [
        {
          "output_type": "stream",
          "name": "stdout",
          "text": [
            "FrozenDict({\n",
            "    Conv_0: {\n",
            "        kernel: (5, 5, 1, 12),\n",
            "    },\n",
            "    Conv_1: {\n",
            "        kernel: (5, 5, 8, 4),\n",
            "    },\n",
            "    Conv_2: {\n",
            "        kernel: (5, 5, 8, 4),\n",
            "    },\n",
            "    Conv_3: {\n",
            "        kernel: (5, 5, 8, 4),\n",
            "    },\n",
            "    Dense_0: {\n",
            "        kernel: (192, 30),\n",
            "    },\n",
            "    Dense_1: {\n",
            "        kernel: (30, 10),\n",
            "    },\n",
            "    bias1: (8, 8, 12),\n",
            "    bias2: (4, 4, 12),\n",
            "    bias3: (30,),\n",
            "    bias4: (10,),\n",
            "})\n"
          ]
        }
      ]
    },
    {
      "cell_type": "code",
      "source": [
        "eval_split(train_test, 'train', param)"
      ],
      "metadata": {
        "colab": {
          "base_uri": "https://localhost:8080/"
        },
        "id": "NnEGr2MhPQf0",
        "outputId": "be1c8572-9bce-4851-a101-d038e88adf0f"
      },
      "execution_count": null,
      "outputs": [
        {
          "output_type": "stream",
          "name": "stdout",
          "text": [
            "1:  (1000, 16, 16, 1)\n",
            "2:  (1000, 20, 20, 1)\n",
            "3:  (1000, 8, 8, 12)\n",
            "4:  (1000, 8, 8, 12)\n",
            "5:  (1000, 12, 12, 12)\n",
            "6:  (1000, 4, 4, 12)\n",
            "7:  (1000, 4, 4, 12)\n",
            "8:  (1000, 30)\n",
            "9:  (1000, 10)\n",
            "eval: split train. loss 4.543942e-01. error 87.60%. misses: 876\n"
          ]
        }
      ]
    },
    {
      "cell_type": "code",
      "source": [
        ""
      ],
      "metadata": {
        "id": "DD-mdHpEXRUl"
      },
      "execution_count": null,
      "outputs": []
    }
  ]
}